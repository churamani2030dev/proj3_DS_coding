{
  "nbformat": 4,
  "nbformat_minor": 0,
  "metadata": {
    "colab": {
      "provenance": [],
      "authorship_tag": "ABX9TyOivohgnDWj/Qutji799U1x",
      "include_colab_link": true
    },
    "kernelspec": {
      "name": "python3",
      "display_name": "Python 3"
    },
    "language_info": {
      "name": "python"
    }
  },
  "cells": [
    {
      "cell_type": "markdown",
      "metadata": {
        "id": "view-in-github",
        "colab_type": "text"
      },
      "source": [
        "<a href=\"https://colab.research.google.com/github/churamani2030dev/proj3_DS_coding/blob/main/proj3_DS_coding.ipynb\" target=\"_parent\"><img src=\"https://colab.research.google.com/assets/colab-badge.svg\" alt=\"Open In Colab\"/></a>"
      ]
    },
    {
      "cell_type": "code",
      "execution_count": 18,
      "metadata": {
        "id": "RHVeRqHzV0AJ"
      },
      "outputs": [],
      "source": []
    },
    {
      "cell_type": "markdown",
      "metadata": {
        "id": "3b23f80b"
      },
      "source": [
        "# ⬇️ Get the project"
      ]
    },
    {
      "cell_type": "code",
      "metadata": {
        "colab": {
          "base_uri": "https://localhost:8080/"
        },
        "id": "8e467ecf",
        "outputId": "6c4c05f6-18c8-4a4a-c5ff-0e768cc77c83"
      },
      "source": [
        "!git clone https://github.com/udacity/dsnd-dashboard-project\n",
        "%cd dsnd-dashboard-project"
      ],
      "execution_count": 30,
      "outputs": [
        {
          "output_type": "stream",
          "name": "stdout",
          "text": [
            "Cloning into 'dsnd-dashboard-project'...\n",
            "remote: Enumerating objects: 160, done.\u001b[K\n",
            "remote: Counting objects: 100% (82/82), done.\u001b[K\n",
            "remote: Compressing objects: 100% (44/44), done.\u001b[K\n",
            "remote: Total 160 (delta 47), reused 38 (delta 38), pack-reused 78 (from 1)\u001b[K\n",
            "Receiving objects: 100% (160/160), 258.78 KiB | 1.37 MiB/s, done.\n",
            "Resolving deltas: 100% (59/59), done.\n",
            "/content/dsnd-dashboard-project/dsnd-dashboard-project/dsnd-dashboard-project\n"
          ]
        }
      ]
    },
    {
      "cell_type": "markdown",
      "metadata": {
        "id": "764c76ea"
      },
      "source": [
        "# 🔧 Install deps (project + package)"
      ]
    },
    {
      "cell_type": "code",
      "metadata": {
        "id": "69935e96"
      },
      "source": [
        "!pip install -q -r requirements.txt\n"
      ],
      "execution_count": 32,
      "outputs": []
    },
    {
      "cell_type": "markdown",
      "metadata": {
        "id": "2f58de69"
      },
      "source": [
        "# (Nice to have)"
      ]
    },
    {
      "cell_type": "code",
      "metadata": {
        "id": "e1e17834"
      },
      "source": [
        "!pip install -q pytest pyngrok"
      ],
      "execution_count": 18,
      "outputs": []
    },
    {
      "cell_type": "code",
      "metadata": {
        "colab": {
          "base_uri": "https://localhost:8080/"
        },
        "id": "0b80c507",
        "outputId": "707520f6-cf1c-47bb-b2f0-5af1cc3a3f3e"
      },
      "source": [
        "# Add both the project root and the package folder to sys.path\n",
        "import sys, pathlib, os\n",
        "ROOT = pathlib.Path.cwd()\n",
        "PKG  = ROOT / \"python-package\"\n",
        "sys.path += [str(ROOT), str(PKG)]\n",
        "\n",
        "\n",
        "# Verify key files exist\n",
        "for p in [\n",
        "    \"python-package/employee_events/employee_events.db\",\n",
        "    \"assets/model.pkl\",\n",
        "    \"report/dashboard.py\",\n",
        "    \"tests/test_employee_events.py\"\n",
        "]:\n",
        "    print(p, \"✅\" if (ROOT / p).exists() else \"❌\")"
      ],
      "execution_count": 20,
      "outputs": [
        {
          "output_type": "stream",
          "name": "stdout",
          "text": [
            "python-package/employee_events/employee_events.db ✅\n",
            "assets/model.pkl ✅\n",
            "report/dashboard.py ✅\n",
            "tests/test_employee_events.py ✅\n"
          ]
        }
      ]
    },
    {
      "cell_type": "code",
      "metadata": {
        "colab": {
          "base_uri": "https://localhost:8080/"
        },
        "id": "639e5d35",
        "outputId": "3a26ecc9-e0b3-4285-a393-b5306f06f8b9"
      },
      "source": [
        "%%writefile python-package/employee_events/sql_execution.py\n",
        "from pathlib import Path\n",
        "import sqlite3, pandas as pd\n",
        "\n",
        "DB_PATH = Path(__file__).resolve().parent / \"employee_events.db\"\n",
        "\n",
        "def run(query: str, params: dict | tuple = ()) -> pd.DataFrame:\n",
        "    with sqlite3.connect(DB_PATH) as conn:\n",
        "        conn.row_factory = sqlite3.Row\n",
        "        cur = conn.execute(query, params if isinstance(params, tuple) else dict(params))\n",
        "        rows = cur.fetchall()\n",
        "    return pd.DataFrame([dict(r) for r in rows])"
      ],
      "execution_count": 21,
      "outputs": [
        {
          "output_type": "stream",
          "name": "stdout",
          "text": [
            "Overwriting python-package/employee_events/sql_execution.py\n"
          ]
        }
      ]
    },
    {
      "cell_type": "code",
      "metadata": {
        "colab": {
          "base_uri": "https://localhost:8080/"
        },
        "id": "33e3bbfa",
        "outputId": "a35198c5-43f0-4bae-f7b4-20997b408a03"
      },
      "source": [
        "%%writefile python-package/employee_events/query_base.py\n",
        "from .sql_execution import run\n",
        "\n",
        "def employee_timeseries(employee_id: int):\n",
        "    q = \"\"\"\n",
        "    SELECT event_date,\n",
        "           SUM(positive_events) AS pos,\n",
        "           SUM(negative_events) AS neg\n",
        "    FROM employee_events\n",
        "    WHERE employee_id = :eid\n",
        "    GROUP BY event_date\n",
        "    ORDER BY event_date;\n",
        "    \"\"\"\n",
        "    return run(q, {\"eid\": employee_id})\n",
        "\n",
        "def team_summary(team_id: int):\n",
        "    q = \"\"\"\n",
        "    SELECT e.employee_id,\n",
        "           e.first_name || ' ' || e.last_name AS name,\n",
        "           SUM(ev.positive_events) AS pos,\n",
        "           SUM(ev.negative_events) AS neg\n",
        "    FROM employee e\n",
        "    JOIN employee_events ev USING(employee_id)\n",
        "    WHERE e.team_id = :tid\n",
        "    GROUP BY e.employee_id, name\n",
        "    ORDER BY pos DESC;\n",
        "    \"\"\"\n",
        "    return run(q, {\"tid\": team_id})"
      ],
      "execution_count": 22,
      "outputs": [
        {
          "output_type": "stream",
          "name": "stdout",
          "text": [
            "Overwriting python-package/employee_events/query_base.py\n"
          ]
        }
      ]
    },
    {
      "cell_type": "code",
      "metadata": {
        "colab": {
          "base_uri": "https://localhost:8080/"
        },
        "id": "8599a592",
        "outputId": "f2ad14ea-3078-46a9-ef59-21477efd82b8"
      },
      "source": [
        "%%writefile python-package/employee_events/employee.py\n",
        "import numpy as np, pandas as pd\n",
        "from .query_base import employee_timeseries\n",
        "\n",
        "def get_employee_timeseries(entity_id, model):\n",
        "    return employee_timeseries(int(entity_id))\n",
        "\n",
        "def get_employee_snapshot(entity_id, model):\n",
        "    ts = employee_timeseries(int(entity_id))\n",
        "    pos30 = ts.tail(30)[\"pos\"].sum() if not ts.empty else 0\n",
        "    neg30 = ts.tail(30)[\"neg\"].sum() if not ts.empty else 0\n",
        "    # Example feature vector; adjust to what your model expects\n",
        "    X = pd.DataFrame([{\"pos30\": pos30, \"neg30\": neg30}])\n",
        "    try:\n",
        "        risk = float(model.predict_proba(X)[:,1])\n",
        "    except Exception:\n",
        "        risk = 0.0\n",
        "    return {\"pos30\": int(pos30), \"neg30\": int(neg30), \"risk\": risk}"
      ],
      "execution_count": 23,
      "outputs": [
        {
          "output_type": "stream",
          "name": "stdout",
          "text": [
            "Overwriting python-package/employee_events/employee.py\n"
          ]
        }
      ]
    },
    {
      "cell_type": "code",
      "metadata": {
        "colab": {
          "base_uri": "https://localhost:8080/"
        },
        "id": "216742fd",
        "outputId": "c7412f68-961c-4459-c25b-3f00266bacb1"
      },
      "source": [
        "%%writefile python-package/employee_events/team.py\n",
        "from .query_base import team_summary\n",
        "\n",
        "def get_team_table(entity_id, model):\n",
        "    return team_summary(int(entity_id))"
      ],
      "execution_count": 24,
      "outputs": [
        {
          "output_type": "stream",
          "name": "stdout",
          "text": [
            "Overwriting python-package/employee_events/team.py\n"
          ]
        }
      ]
    },
    {
      "cell_type": "code",
      "metadata": {
        "colab": {
          "base_uri": "https://localhost:8080/"
        },
        "id": "db67e752",
        "outputId": "7bc88d34-d93f-4030-e61b-f18c6d53d1cd"
      },
      "source": [
        "%%writefile report/utils.py\n",
        "import pickle, pathlib\n",
        "ASSETS = pathlib.Path(__file__).resolve().parents[1] / \"assets\"\n",
        "\n",
        "_model = None\n",
        "def get_model():\n",
        "    global _model\n",
        "    if _model is None:\n",
        "        with open(ASSETS / \"model.pkl\", \"rb\") as f:\n",
        "            _model = pickle.load(f)\n",
        "    return _model"
      ],
      "execution_count": 25,
      "outputs": [
        {
          "output_type": "stream",
          "name": "stdout",
          "text": [
            "Overwriting report/utils.py\n"
          ]
        }
      ]
    },
    {
      "cell_type": "code",
      "metadata": {
        "colab": {
          "base_uri": "https://localhost:8080/"
        },
        "id": "7f8243b2",
        "outputId": "78b7e804-cfa5-4235-f0da-b77cc4f8a9ad"
      },
      "source": [
        "%%writefile report/dashboard.py\n",
        "from report.utils import get_model\n",
        "from employee_events.employee import get_employee_snapshot, get_employee_timeseries\n",
        "from employee_events.team import get_team_table\n",
        "\n",
        "# If your FastHTML skeleton exposes classes, import them here.\n",
        "# Below is a simple bottle/fastapi-like sketch; adapt to your framework.\n",
        "\n",
        "import http.server, socketserver, json\n",
        "\n",
        "PORT = 8000\n",
        "MODEL = get_model()\n",
        "\n",
        "class Handler(http.server.SimpleHTTPRequestHandler):\n",
        "    def do_GET(self):\n",
        "        if self.path.startswith(\"/api/employee/\"):\n",
        "            eid = int(self.path.split(\"/\")[-1])\n",
        "            snap = get_employee_snapshot(eid, MODEL)\n",
        "            self._send_json(snap)\n",
        "        else:\n",
        "            # Serve a tiny HTML that calls the API (placeholder)\n",
        "            html = \"\"\"\n",
        "            <html><body>\n",
        "              <h2>Employee Dashboard</h2>\n",
        "              <p>Try /api/employee/1</p>\n",
        "            </body></html>\n",
        "            \"\"\"\n",
        "            self._send_html(html)\n",
        "\n",
        "    def _send_json(self, obj):\n",
        "        data = json.dumps(obj).encode()\n",
        "        self.send_response(200)\n",
        "        self.send_header(\"Content-Type\",\"application/json\")\n",
        "        self.send_header(\"Content-Length\", str(len(data)))\n",
        "        self.end_headers()\n",
        "        self.wfile.write(data)\n",
        "\n",
        "    def _send_html(self, html):\n",
        "        data = html.encode()\n",
        "        self.send_response(200)\n",
        "        self.send_header(\"Content-Type\",\"text/html\")\n",
        "        self.send_header(\"Content-Length\", str(len(data)))\n",
        "        self.end_headers()\n",
        "        self.wfile.write(data)\n",
        "\n",
        "if __name__ == \"__main__\":\n",
        "    with socketserver.TCPServer((\"\", PORT), Handler) as httpd:\n",
        "        print(f\"Serving on http://127.0.0.1:{PORT}\")\n",
        "        httpd.serve_forever()"
      ],
      "execution_count": 26,
      "outputs": [
        {
          "output_type": "stream",
          "name": "stdout",
          "text": [
            "Overwriting report/dashboard.py\n"
          ]
        }
      ]
    },
    {
      "cell_type": "code",
      "metadata": {
        "colab": {
          "base_uri": "https://localhost:8080/"
        },
        "id": "6926b49c",
        "outputId": "bb459861-65cd-435f-f9c4-010f64c362ff"
      },
      "source": [
        "!pytest -q"
      ],
      "execution_count": 27,
      "outputs": [
        {
          "output_type": "stream",
          "name": "stdout",
          "text": [
            "\n",
            "\u001b[33m\u001b[33mno tests ran\u001b[0m\u001b[33m in 0.02s\u001b[0m\u001b[0m\n"
          ]
        }
      ]
    },
    {
      "cell_type": "code",
      "metadata": {
        "colab": {
          "base_uri": "https://localhost:8080/"
        },
        "id": "d3541859",
        "outputId": "aae49f94-5dd7-4a0f-803c-e3530e629fe0"
      },
      "source": [
        "# run your dashboard (use the project root as CWD)\n",
        "!PYTHONPATH=$PYTHONPATH:. python report/dashboard.py"
      ],
      "execution_count": 28,
      "outputs": [
        {
          "output_type": "stream",
          "name": "stdout",
          "text": [
            "Traceback (most recent call last):\n",
            "  File \"/content/dsnd-dashboard-project/dsnd-dashboard-project/report/dashboard.py\", line 2, in <module>\n",
            "    from employee_events.employee import get_employee_snapshot, get_employee_timeseries\n",
            "ModuleNotFoundError: No module named 'employee_events'\n"
          ]
        }
      ]
    }
  ]
}
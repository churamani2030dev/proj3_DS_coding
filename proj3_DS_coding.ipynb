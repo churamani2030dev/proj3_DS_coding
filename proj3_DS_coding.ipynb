{
  "nbformat": 4,
  "nbformat_minor": 0,
  "metadata": {
    "colab": {
      "provenance": [],
      "authorship_tag": "ABX9TyMmey+0oCrArzEV9YxqVZIf",
      "include_colab_link": true
    },
    "kernelspec": {
      "name": "python3",
      "display_name": "Python 3"
    },
    "language_info": {
      "name": "python"
    }
  },
  "cells": [
    {
      "cell_type": "markdown",
      "metadata": {
        "id": "view-in-github",
        "colab_type": "text"
      },
      "source": [
        "<a href=\"https://colab.research.google.com/github/churamani2030dev/proj3_DS_coding/blob/main/proj3_DS_coding.ipynb\" target=\"_parent\"><img src=\"https://colab.research.google.com/assets/colab-badge.svg\" alt=\"Open In Colab\"/></a>"
      ]
    },
    {
      "cell_type": "code",
      "execution_count": 18,
      "metadata": {
        "id": "RHVeRqHzV0AJ"
      },
      "outputs": [],
      "source": []
    },
    {
      "cell_type": "markdown",
      "metadata": {
        "id": "3b23f80b"
      },
      "source": [
        "# ⬇️ Get the project"
      ]
    },
    {
      "cell_type": "code",
      "metadata": {
        "colab": {
          "base_uri": "https://localhost:8080/"
        },
        "id": "8e467ecf",
        "outputId": "6c4c05f6-18c8-4a4a-c5ff-0e768cc77c83"
      },
      "source": [
        "!git clone https://github.com/udacity/dsnd-dashboard-project\n",
        "%cd dsnd-dashboard-project"
      ],
      "execution_count": 30,
      "outputs": [
        {
          "output_type": "stream",
          "name": "stdout",
          "text": [
            "Cloning into 'dsnd-dashboard-project'...\n",
            "remote: Enumerating objects: 160, done.\u001b[K\n",
            "remote: Counting objects: 100% (82/82), done.\u001b[K\n",
            "remote: Compressing objects: 100% (44/44), done.\u001b[K\n",
            "remote: Total 160 (delta 47), reused 38 (delta 38), pack-reused 78 (from 1)\u001b[K\n",
            "Receiving objects: 100% (160/160), 258.78 KiB | 1.37 MiB/s, done.\n",
            "Resolving deltas: 100% (59/59), done.\n",
            "/content/dsnd-dashboard-project/dsnd-dashboard-project/dsnd-dashboard-project\n"
          ]
        }
      ]
    },
    {
      "cell_type": "markdown",
      "metadata": {
        "id": "764c76ea"
      },
      "source": [
        "# 🔧 Install deps (project + package)"
      ]
    },
    {
      "cell_type": "code",
      "metadata": {
        "id": "69935e96"
      },
      "source": [
        "!pip install -q -r requirements.txt\n"
      ],
      "execution_count": 32,
      "outputs": []
    },
    {
      "cell_type": "markdown",
      "metadata": {
        "id": "2f58de69"
      },
      "source": [
        "# (Nice to have)"
      ]
    },
    {
      "cell_type": "code",
      "metadata": {
        "id": "e1e17834"
      },
      "source": [
        "!pip install -q pytest pyngrok"
      ],
      "execution_count": 18,
      "outputs": []
    },
    {
      "cell_type": "code",
      "metadata": {
        "colab": {
          "base_uri": "https://localhost:8080/"
        },
        "id": "0b80c507",
        "outputId": "707520f6-cf1c-47bb-b2f0-5af1cc3a3f3e"
      },
      "source": [
        "# Add both the project root and the package folder to sys.path\n",
        "import sys, pathlib, os\n",
        "ROOT = pathlib.Path.cwd()\n",
        "PKG  = ROOT / \"python-package\"\n",
        "sys.path += [str(ROOT), str(PKG)]\n",
        "\n",
        "\n",
        "# Verify key files exist\n",
        "for p in [\n",
        "    \"python-package/employee_events/employee_events.db\",\n",
        "    \"assets/model.pkl\",\n",
        "    \"report/dashboard.py\",\n",
        "    \"tests/test_employee_events.py\"\n",
        "]:\n",
        "    print(p, \"✅\" if (ROOT / p).exists() else \"❌\")"
      ],
      "execution_count": 20,
      "outputs": [
        {
          "output_type": "stream",
          "name": "stdout",
          "text": [
            "python-package/employee_events/employee_events.db ✅\n",
            "assets/model.pkl ✅\n",
            "report/dashboard.py ✅\n",
            "tests/test_employee_events.py ✅\n"
          ]
        }
      ]
    },
    {
      "cell_type": "code",
      "metadata": {
        "colab": {
          "base_uri": "https://localhost:8080/"
        },
        "id": "639e5d35",
        "outputId": "3a26ecc9-e0b3-4285-a393-b5306f06f8b9"
      },
      "source": [
        "%%writefile python-package/employee_events/sql_execution.py\n",
        "from pathlib import Path\n",
        "import sqlite3, pandas as pd\n",
        "\n",
        "DB_PATH = Path(__file__).resolve().parent / \"employee_events.db\"\n",
        "\n",
        "def run(query: str, params: dict | tuple = ()) -> pd.DataFrame:\n",
        "    with sqlite3.connect(DB_PATH) as conn:\n",
        "        conn.row_factory = sqlite3.Row\n",
        "        cur = conn.execute(query, params if isinstance(params, tuple) else dict(params))\n",
        "        rows = cur.fetchall()\n",
        "    return pd.DataFrame([dict(r) for r in rows])"
      ],
      "execution_count": 21,
      "outputs": [
        {
          "output_type": "stream",
          "name": "stdout",
          "text": [
            "Overwriting python-package/employee_events/sql_execution.py\n"
          ]
        }
      ]
    },
    {
      "cell_type": "code",
      "metadata": {
        "colab": {
          "base_uri": "https://localhost:8080/"
        },
        "id": "33e3bbfa",
        "outputId": "a35198c5-43f0-4bae-f7b4-20997b408a03"
      },
      "source": [
        "%%writefile python-package/employee_events/query_base.py\n",
        "from .sql_execution import run\n",
        "\n",
        "def employee_timeseries(employee_id: int):\n",
        "    q = \"\"\"\n",
        "    SELECT event_date,\n",
        "           SUM(positive_events) AS pos,\n",
        "           SUM(negative_events) AS neg\n",
        "    FROM employee_events\n",
        "    WHERE employee_id = :eid\n",
        "    GROUP BY event_date\n",
        "    ORDER BY event_date;\n",
        "    \"\"\"\n",
        "    return run(q, {\"eid\": employee_id})\n",
        "\n",
        "def team_summary(team_id: int):\n",
        "    q = \"\"\"\n",
        "    SELECT e.employee_id,\n",
        "           e.first_name || ' ' || e.last_name AS name,\n",
        "           SUM(ev.positive_events) AS pos,\n",
        "           SUM(ev.negative_events) AS neg\n",
        "    FROM employee e\n",
        "    JOIN employee_events ev USING(employee_id)\n",
        "    WHERE e.team_id = :tid\n",
        "    GROUP BY e.employee_id, name\n",
        "    ORDER BY pos DESC;\n",
        "    \"\"\"\n",
        "    return run(q, {\"tid\": team_id})"
      ],
      "execution_count": 22,
      "outputs": [
        {
          "output_type": "stream",
          "name": "stdout",
          "text": [
            "Overwriting python-package/employee_events/query_base.py\n"
          ]
        }
      ]
    },
    {
      "cell_type": "code",
      "metadata": {
        "colab": {
          "base_uri": "https://localhost:8080/"
        },
        "id": "8599a592",
        "outputId": "f2ad14ea-3078-46a9-ef59-21477efd82b8"
      },
      "source": [
        "%%writefile python-package/employee_events/employee.py\n",
        "import numpy as np, pandas as pd\n",
        "from .query_base import employee_timeseries\n",
        "\n",
        "def get_employee_timeseries(entity_id, model):\n",
        "    return employee_timeseries(int(entity_id))\n",
        "\n",
        "def get_employee_snapshot(entity_id, model):\n",
        "    ts = employee_timeseries(int(entity_id))\n",
        "    pos30 = ts.tail(30)[\"pos\"].sum() if not ts.empty else 0\n",
        "    neg30 = ts.tail(30)[\"neg\"].sum() if not ts.empty else 0\n",
        "    # Example feature vector; adjust to what your model expects\n",
        "    X = pd.DataFrame([{\"pos30\": pos30, \"neg30\": neg30}])\n",
        "    try:\n",
        "        risk = float(model.predict_proba(X)[:,1])\n",
        "    except Exception:\n",
        "        risk = 0.0\n",
        "    return {\"pos30\": int(pos30), \"neg30\": int(neg30), \"risk\": risk}"
      ],
      "execution_count": 23,
      "outputs": [
        {
          "output_type": "stream",
          "name": "stdout",
          "text": [
            "Overwriting python-package/employee_events/employee.py\n"
          ]
        }
      ]
    },
    {
      "cell_type": "code",
      "metadata": {
        "colab": {
          "base_uri": "https://localhost:8080/"
        },
        "id": "216742fd",
        "outputId": "c7412f68-961c-4459-c25b-3f00266bacb1"
      },
      "source": [
        "%%writefile python-package/employee_events/team.py\n",
        "from .query_base import team_summary\n",
        "\n",
        "def get_team_table(entity_id, model):\n",
        "    return team_summary(int(entity_id))"
      ],
      "execution_count": 24,
      "outputs": [
        {
          "output_type": "stream",
          "name": "stdout",
          "text": [
            "Overwriting python-package/employee_events/team.py\n"
          ]
        }
      ]
    },
    {
      "cell_type": "code",
      "metadata": {
        "colab": {
          "base_uri": "https://localhost:8080/"
        },
        "id": "db67e752",
        "outputId": "7bc88d34-d93f-4030-e61b-f18c6d53d1cd"
      },
      "source": [
        "%%writefile report/utils.py\n",
        "import pickle, pathlib\n",
        "ASSETS = pathlib.Path(__file__).resolve().parents[1] / \"assets\"\n",
        "\n",
        "_model = None\n",
        "def get_model():\n",
        "    global _model\n",
        "    if _model is None:\n",
        "        with open(ASSETS / \"model.pkl\", \"rb\") as f:\n",
        "            _model = pickle.load(f)\n",
        "    return _model"
      ],
      "execution_count": 25,
      "outputs": [
        {
          "output_type": "stream",
          "name": "stdout",
          "text": [
            "Overwriting report/utils.py\n"
          ]
        }
      ]
    },
    {
      "cell_type": "code",
      "metadata": {
        "colab": {
          "base_uri": "https://localhost:8080/"
        },
        "id": "7f8243b2",
        "outputId": "a7174bbe-ba68-46f7-dc17-db47fadb523f"
      },
      "source": [
        "%%writefile report/dashboard.py\n",
        "from report.utils import get_model\n",
        "from employee_events.employee import get_employee_snapshot, get_employee_timeseries\n",
        "from employee_events.team import get_team_table\n",
        "\n",
        "# If your FastHTML skeleton exposes classes, import them here.\n",
        "# Below is a simple bottle/fastapi-like sketch; adapt to your framework.\n",
        "\n",
        "import http.server, socketserver, json\n",
        "\n",
        "PORT = 8000\n",
        "MODEL = get_model()\n",
        "\n",
        "class Handler(http.server.SimpleHTTPRequestHandler):\n",
        "    def do_GET(self):\n",
        "        if self.path.startswith(\"/api/employee/\"):\n",
        "            eid = int(self.path.split(\"/\")[-1])\n",
        "            snap = get_employee_snapshot(eid, MODEL)\n",
        "            self._send_json(snap)\n",
        "        else:\n",
        "            # Serve a tiny HTML that calls the API (placeholder)\n",
        "            html = \"\"\"\n",
        "            <html><body>\n",
        "              <h2>Employee Dashboard</h2>\n",
        "              <p>Try /api/employee/1</p>\n",
        "            </body></html>\n",
        "            \"\"\"\n",
        "            self._send_html(html)\n",
        "\n",
        "    def _send_json(self, obj):\n",
        "        data = json.dumps(obj).encode()\n",
        "        self.send_response(200)\n",
        "        self.send_header(\"Content-Type\",\"application/json\")\n",
        "        self.send_header(\"Content-Length\", str(len(data)))\n",
        "        self.end_headers()\n",
        "        self.wfile.write(data)\n",
        "\n",
        "    def _send_html(self, html):\n",
        "        data = html.encode()\n",
        "        self.send_response(200)\n",
        "        self.send_header(\"Content-Type\",\"text/html\")\n",
        "        self.send_header(\"Content-Length\", str(len(data)))\n",
        "        self.end_headers()\n",
        "        self.wfile.write(data)\n",
        "\n",
        "if __name__ == \"__main__\":\n",
        "    with socketserver.TCPServer((\"\", PORT), Handler) as httpd:\n",
        "        print(f\"Serving on http://127.0.0.1:{PORT}\")\n",
        "        httpd.serve_forever()"
      ],
      "execution_count": 45,
      "outputs": [
        {
          "output_type": "stream",
          "name": "stdout",
          "text": [
            "Overwriting report/dashboard.py\n"
          ]
        }
      ]
    },
    {
      "cell_type": "code",
      "metadata": {
        "colab": {
          "base_uri": "https://localhost:8080/"
        },
        "id": "6926b49c",
        "outputId": "bb459861-65cd-435f-f9c4-010f64c362ff"
      },
      "source": [
        "!pytest -q"
      ],
      "execution_count": 27,
      "outputs": [
        {
          "output_type": "stream",
          "name": "stdout",
          "text": [
            "\n",
            "\u001b[33m\u001b[33mno tests ran\u001b[0m\u001b[33m in 0.02s\u001b[0m\u001b[0m\n"
          ]
        }
      ]
    },
    {
      "cell_type": "code",
      "metadata": {
        "colab": {
          "base_uri": "https://localhost:8080/"
        },
        "id": "d3541859",
        "outputId": "aae49f94-5dd7-4a0f-803c-e3530e629fe0"
      },
      "source": [
        "# run your dashboard (use the project root as CWD)\n",
        "!PYTHONPATH=$PYTHONPATH:. python report/dashboard.py"
      ],
      "execution_count": 28,
      "outputs": [
        {
          "output_type": "stream",
          "name": "stdout",
          "text": [
            "Traceback (most recent call last):\n",
            "  File \"/content/dsnd-dashboard-project/dsnd-dashboard-project/report/dashboard.py\", line 2, in <module>\n",
            "    from employee_events.employee import get_employee_snapshot, get_employee_timeseries\n",
            "ModuleNotFoundError: No module named 'employee_events'\n"
          ]
        }
      ]
    },
    {
      "cell_type": "markdown",
      "metadata": {
        "id": "1997fe72"
      },
      "source": [
        "# Employee Events Dashboard Project\n",
        "\n",
        "This project is a dashboard to visualize employee events and assess potential risks.\n",
        "\n",
        "## Project Setup\n",
        "\n",
        "1.  **Clone the repository:**"
      ]
    },
    {
      "cell_type": "code",
      "metadata": {
        "colab": {
          "base_uri": "https://localhost:8080/"
        },
        "id": "7a52272c",
        "outputId": "339ef093-03f1-41c6-a6e4-0e818d21e84c"
      },
      "source": [
        "!python -m venv .venv\n",
        "!source .venv/bin/activate # Windows: .venv\\Scripts\\activate\n",
        "!pip install -r requirements.txt\n",
        "!pip install -r python-package/requirements.txt\n",
        "!pip install pytest pyngrok # Nice to have packages"
      ],
      "execution_count": 40,
      "outputs": [
        {
          "output_type": "stream",
          "name": "stdout",
          "text": [
            "Error: Command '['/content/dsnd-dashboard-project/dsnd-dashboard-project/dsnd-dashboard-project/.venv/bin/python3', '-m', 'ensurepip', '--upgrade', '--default-pip']' returned non-zero exit status 1.\n",
            "/bin/bash: line 1: .venv/bin/activate: No such file or directory\n",
            "Requirement already satisfied: scikit-learn==1.5.2 in /usr/local/lib/python3.12/dist-packages (from -r requirements.txt (line 1)) (1.5.2)\n",
            "Requirement already satisfied: python-fasthtml==0.8.0 in /usr/local/lib/python3.12/dist-packages (from -r requirements.txt (line 2)) (0.8.0)\n",
            "Requirement already satisfied: matplotlib==3.9.2 in /usr/local/lib/python3.12/dist-packages (from -r requirements.txt (line 3)) (3.9.2)\n",
            "Requirement already satisfied: scipy==1.14.1 in /usr/local/lib/python3.12/dist-packages (from -r requirements.txt (line 4)) (1.14.1)\n",
            "Requirement already satisfied: numpy==2.1.2 in /usr/local/lib/python3.12/dist-packages (from -r requirements.txt (line 5)) (2.1.2)\n",
            "Requirement already satisfied: pandas==2.2.3 in /usr/local/lib/python3.12/dist-packages (from -r requirements.txt (line 6)) (2.2.3)\n",
            "Requirement already satisfied: pytest in /usr/local/lib/python3.12/dist-packages (from -r requirements.txt (line 7)) (8.4.1)\n",
            "Requirement already satisfied: flake8 in /usr/local/lib/python3.12/dist-packages (from -r requirements.txt (line 8)) (7.3.0)\n",
            "Requirement already satisfied: ipython in /usr/local/lib/python3.12/dist-packages (from -r requirements.txt (line 9)) (7.34.0)\n",
            "Requirement already satisfied: joblib>=1.2.0 in /usr/local/lib/python3.12/dist-packages (from scikit-learn==1.5.2->-r requirements.txt (line 1)) (1.5.1)\n",
            "Requirement already satisfied: threadpoolctl>=3.1.0 in /usr/local/lib/python3.12/dist-packages (from scikit-learn==1.5.2->-r requirements.txt (line 1)) (3.6.0)\n",
            "Requirement already satisfied: fastcore>=1.7.18 in /usr/local/lib/python3.12/dist-packages (from python-fasthtml==0.8.0->-r requirements.txt (line 2)) (1.8.8)\n",
            "Requirement already satisfied: python-dateutil in /usr/local/lib/python3.12/dist-packages (from python-fasthtml==0.8.0->-r requirements.txt (line 2)) (2.9.0.post0)\n",
            "Requirement already satisfied: starlette>0.33 in /usr/local/lib/python3.12/dist-packages (from python-fasthtml==0.8.0->-r requirements.txt (line 2)) (0.47.3)\n",
            "Requirement already satisfied: oauthlib in /usr/local/lib/python3.12/dist-packages (from python-fasthtml==0.8.0->-r requirements.txt (line 2)) (3.3.1)\n",
            "Requirement already satisfied: itsdangerous in /usr/local/lib/python3.12/dist-packages (from python-fasthtml==0.8.0->-r requirements.txt (line 2)) (2.2.0)\n",
            "Requirement already satisfied: uvicorn>=0.30 in /usr/local/lib/python3.12/dist-packages (from uvicorn[standard]>=0.30->python-fasthtml==0.8.0->-r requirements.txt (line 2)) (0.35.0)\n",
            "Requirement already satisfied: httpx in /usr/local/lib/python3.12/dist-packages (from python-fasthtml==0.8.0->-r requirements.txt (line 2)) (0.28.1)\n",
            "Requirement already satisfied: fastlite>=0.0.9 in /usr/local/lib/python3.12/dist-packages (from python-fasthtml==0.8.0->-r requirements.txt (line 2)) (0.2.1)\n",
            "Requirement already satisfied: python-multipart in /usr/local/lib/python3.12/dist-packages (from python-fasthtml==0.8.0->-r requirements.txt (line 2)) (0.0.20)\n",
            "Requirement already satisfied: beautifulsoup4 in /usr/local/lib/python3.12/dist-packages (from python-fasthtml==0.8.0->-r requirements.txt (line 2)) (4.13.5)\n",
            "Requirement already satisfied: contourpy>=1.0.1 in /usr/local/lib/python3.12/dist-packages (from matplotlib==3.9.2->-r requirements.txt (line 3)) (1.3.3)\n",
            "Requirement already satisfied: cycler>=0.10 in /usr/local/lib/python3.12/dist-packages (from matplotlib==3.9.2->-r requirements.txt (line 3)) (0.12.1)\n",
            "Requirement already satisfied: fonttools>=4.22.0 in /usr/local/lib/python3.12/dist-packages (from matplotlib==3.9.2->-r requirements.txt (line 3)) (4.59.1)\n",
            "Requirement already satisfied: kiwisolver>=1.3.1 in /usr/local/lib/python3.12/dist-packages (from matplotlib==3.9.2->-r requirements.txt (line 3)) (1.4.9)\n",
            "Requirement already satisfied: packaging>=20.0 in /usr/local/lib/python3.12/dist-packages (from matplotlib==3.9.2->-r requirements.txt (line 3)) (25.0)\n",
            "Requirement already satisfied: pillow>=8 in /usr/local/lib/python3.12/dist-packages (from matplotlib==3.9.2->-r requirements.txt (line 3)) (11.3.0)\n",
            "Requirement already satisfied: pyparsing>=2.3.1 in /usr/local/lib/python3.12/dist-packages (from matplotlib==3.9.2->-r requirements.txt (line 3)) (3.2.3)\n",
            "Requirement already satisfied: pytz>=2020.1 in /usr/local/lib/python3.12/dist-packages (from pandas==2.2.3->-r requirements.txt (line 6)) (2025.2)\n",
            "Requirement already satisfied: tzdata>=2022.7 in /usr/local/lib/python3.12/dist-packages (from pandas==2.2.3->-r requirements.txt (line 6)) (2025.2)\n",
            "Requirement already satisfied: iniconfig>=1 in /usr/local/lib/python3.12/dist-packages (from pytest->-r requirements.txt (line 7)) (2.1.0)\n",
            "Requirement already satisfied: pluggy<2,>=1.5 in /usr/local/lib/python3.12/dist-packages (from pytest->-r requirements.txt (line 7)) (1.6.0)\n",
            "Requirement already satisfied: pygments>=2.7.2 in /usr/local/lib/python3.12/dist-packages (from pytest->-r requirements.txt (line 7)) (2.19.2)\n",
            "Requirement already satisfied: mccabe<0.8.0,>=0.7.0 in /usr/local/lib/python3.12/dist-packages (from flake8->-r requirements.txt (line 8)) (0.7.0)\n",
            "Requirement already satisfied: pycodestyle<2.15.0,>=2.14.0 in /usr/local/lib/python3.12/dist-packages (from flake8->-r requirements.txt (line 8)) (2.14.0)\n",
            "Requirement already satisfied: pyflakes<3.5.0,>=3.4.0 in /usr/local/lib/python3.12/dist-packages (from flake8->-r requirements.txt (line 8)) (3.4.0)\n",
            "Requirement already satisfied: setuptools>=18.5 in /usr/local/lib/python3.12/dist-packages (from ipython->-r requirements.txt (line 9)) (75.2.0)\n",
            "Requirement already satisfied: jedi>=0.16 in /usr/local/lib/python3.12/dist-packages (from ipython->-r requirements.txt (line 9)) (0.19.2)\n",
            "Requirement already satisfied: decorator in /usr/local/lib/python3.12/dist-packages (from ipython->-r requirements.txt (line 9)) (4.4.2)\n",
            "Requirement already satisfied: pickleshare in /usr/local/lib/python3.12/dist-packages (from ipython->-r requirements.txt (line 9)) (0.7.5)\n",
            "Requirement already satisfied: traitlets>=4.2 in /usr/local/lib/python3.12/dist-packages (from ipython->-r requirements.txt (line 9)) (5.7.1)\n",
            "Requirement already satisfied: prompt-toolkit!=3.0.0,!=3.0.1,<3.1.0,>=2.0.0 in /usr/local/lib/python3.12/dist-packages (from ipython->-r requirements.txt (line 9)) (3.0.51)\n",
            "Requirement already satisfied: backcall in /usr/local/lib/python3.12/dist-packages (from ipython->-r requirements.txt (line 9)) (0.2.0)\n",
            "Requirement already satisfied: matplotlib-inline in /usr/local/lib/python3.12/dist-packages (from ipython->-r requirements.txt (line 9)) (0.1.7)\n",
            "Requirement already satisfied: pexpect>4.3 in /usr/local/lib/python3.12/dist-packages (from ipython->-r requirements.txt (line 9)) (4.9.0)\n",
            "Requirement already satisfied: apswutils>=0.1.0 in /usr/local/lib/python3.12/dist-packages (from fastlite>=0.0.9->python-fasthtml==0.8.0->-r requirements.txt (line 2)) (0.1.0)\n",
            "Requirement already satisfied: parso<0.9.0,>=0.8.4 in /usr/local/lib/python3.12/dist-packages (from jedi>=0.16->ipython->-r requirements.txt (line 9)) (0.8.5)\n",
            "Requirement already satisfied: ptyprocess>=0.5 in /usr/local/lib/python3.12/dist-packages (from pexpect>4.3->ipython->-r requirements.txt (line 9)) (0.7.0)\n",
            "Requirement already satisfied: wcwidth in /usr/local/lib/python3.12/dist-packages (from prompt-toolkit!=3.0.0,!=3.0.1,<3.1.0,>=2.0.0->ipython->-r requirements.txt (line 9)) (0.2.13)\n",
            "Requirement already satisfied: six>=1.5 in /usr/local/lib/python3.12/dist-packages (from python-dateutil->python-fasthtml==0.8.0->-r requirements.txt (line 2)) (1.17.0)\n",
            "Requirement already satisfied: anyio<5,>=3.6.2 in /usr/local/lib/python3.12/dist-packages (from starlette>0.33->python-fasthtml==0.8.0->-r requirements.txt (line 2)) (4.10.0)\n",
            "Requirement already satisfied: typing-extensions>=4.10.0 in /usr/local/lib/python3.12/dist-packages (from starlette>0.33->python-fasthtml==0.8.0->-r requirements.txt (line 2)) (4.15.0)\n",
            "Requirement already satisfied: click>=7.0 in /usr/local/lib/python3.12/dist-packages (from uvicorn>=0.30->uvicorn[standard]>=0.30->python-fasthtml==0.8.0->-r requirements.txt (line 2)) (8.2.1)\n",
            "Requirement already satisfied: h11>=0.8 in /usr/local/lib/python3.12/dist-packages (from uvicorn>=0.30->uvicorn[standard]>=0.30->python-fasthtml==0.8.0->-r requirements.txt (line 2)) (0.16.0)\n",
            "Requirement already satisfied: httptools>=0.6.3 in /usr/local/lib/python3.12/dist-packages (from uvicorn[standard]>=0.30->python-fasthtml==0.8.0->-r requirements.txt (line 2)) (0.6.4)\n",
            "Requirement already satisfied: python-dotenv>=0.13 in /usr/local/lib/python3.12/dist-packages (from uvicorn[standard]>=0.30->python-fasthtml==0.8.0->-r requirements.txt (line 2)) (1.1.1)\n",
            "Requirement already satisfied: pyyaml>=5.1 in /usr/local/lib/python3.12/dist-packages (from uvicorn[standard]>=0.30->python-fasthtml==0.8.0->-r requirements.txt (line 2)) (6.0.2)\n",
            "Requirement already satisfied: uvloop>=0.15.1 in /usr/local/lib/python3.12/dist-packages (from uvicorn[standard]>=0.30->python-fasthtml==0.8.0->-r requirements.txt (line 2)) (0.21.0)\n",
            "Requirement already satisfied: watchfiles>=0.13 in /usr/local/lib/python3.12/dist-packages (from uvicorn[standard]>=0.30->python-fasthtml==0.8.0->-r requirements.txt (line 2)) (1.1.0)\n",
            "Requirement already satisfied: websockets>=10.4 in /usr/local/lib/python3.12/dist-packages (from uvicorn[standard]>=0.30->python-fasthtml==0.8.0->-r requirements.txt (line 2)) (15.0.1)\n",
            "Requirement already satisfied: soupsieve>1.2 in /usr/local/lib/python3.12/dist-packages (from beautifulsoup4->python-fasthtml==0.8.0->-r requirements.txt (line 2)) (2.7)\n",
            "Requirement already satisfied: certifi in /usr/local/lib/python3.12/dist-packages (from httpx->python-fasthtml==0.8.0->-r requirements.txt (line 2)) (2025.8.3)\n",
            "Requirement already satisfied: httpcore==1.* in /usr/local/lib/python3.12/dist-packages (from httpx->python-fasthtml==0.8.0->-r requirements.txt (line 2)) (1.0.9)\n",
            "Requirement already satisfied: idna in /usr/local/lib/python3.12/dist-packages (from httpx->python-fasthtml==0.8.0->-r requirements.txt (line 2)) (3.10)\n",
            "Requirement already satisfied: sniffio>=1.1 in /usr/local/lib/python3.12/dist-packages (from anyio<5,>=3.6.2->starlette>0.33->python-fasthtml==0.8.0->-r requirements.txt (line 2)) (1.3.1)\n",
            "Requirement already satisfied: apsw in /usr/local/lib/python3.12/dist-packages (from apswutils>=0.1.0->fastlite>=0.0.9->python-fasthtml==0.8.0->-r requirements.txt (line 2)) (3.50.4.0)\n",
            "\u001b[31mERROR: Could not open requirements file: [Errno 2] No such file or directory: 'python-package/requirements.txt'\u001b[0m\u001b[31m\n",
            "\u001b[0mRequirement already satisfied: pytest in /usr/local/lib/python3.12/dist-packages (8.4.1)\n",
            "Requirement already satisfied: pyngrok in /usr/local/lib/python3.12/dist-packages (7.3.0)\n",
            "Requirement already satisfied: iniconfig>=1 in /usr/local/lib/python3.12/dist-packages (from pytest) (2.1.0)\n",
            "Requirement already satisfied: packaging>=20 in /usr/local/lib/python3.12/dist-packages (from pytest) (25.0)\n",
            "Requirement already satisfied: pluggy<2,>=1.5 in /usr/local/lib/python3.12/dist-packages (from pytest) (1.6.0)\n",
            "Requirement already satisfied: pygments>=2.7.2 in /usr/local/lib/python3.12/dist-packages (from pytest) (2.19.2)\n",
            "Requirement already satisfied: PyYAML>=5.1 in /usr/local/lib/python3.12/dist-packages (from pyngrok) (6.0.2)\n"
          ]
        }
      ]
    },
    {
      "cell_type": "code",
      "metadata": {
        "colab": {
          "base_uri": "https://localhost:8080/"
        },
        "id": "ee5e0779",
        "outputId": "b67997a4-9bb8-4f61-db33-c5774639535f"
      },
      "source": [
        "    import sys, pathlib, os\n",
        "    ROOT = pathlib.Path.cwd()\n",
        "    PKG  = ROOT / \"python-package\"\n",
        "    sys.path += [str(ROOT), str(PKG)]\n",
        "\n",
        "    # Verify key files exist\n",
        "    for p in [\n",
        "        \"python-package/employee_events/employee_events.db\",\n",
        "        \"assets/model.pkl\",\n",
        "        \"report/dashboard.py\",\n",
        "        \"tests/test_employee_events.py\"\n",
        "    ]:\n",
        "        print(p, \"✅\" if (ROOT / p).exists() else \"❌\")"
      ],
      "execution_count": 34,
      "outputs": [
        {
          "output_type": "stream",
          "name": "stdout",
          "text": [
            "python-package/employee_events/employee_events.db ✅\n",
            "assets/model.pkl ✅\n",
            "report/dashboard.py ✅\n",
            "tests/test_employee_events.py ✅\n"
          ]
        }
      ]
    },
    {
      "cell_type": "code",
      "metadata": {
        "colab": {
          "base_uri": "https://localhost:8080/"
        },
        "id": "5e3755c6",
        "outputId": "9ff78289-5a5b-42a1-b551-9ca626ae0588"
      },
      "source": [
        "!PYTHONPATH=$PYTHONPATH:. python report/dashboard.py"
      ],
      "execution_count": 41,
      "outputs": [
        {
          "output_type": "stream",
          "name": "stdout",
          "text": [
            "  File \"/content/dsnd-dashboard-project/dsnd-dashboard-project/dsnd-dashboard-project/report/dashboard.py\", line 164\n",
            "    ax.barh([''], [pred])\n",
            "IndentationError: unexpected indent\n"
          ]
        }
      ]
    },
    {
      "cell_type": "code",
      "metadata": {
        "colab": {
          "base_uri": "https://localhost:8080/",
          "height": 341
        },
        "id": "a4fa292b",
        "outputId": "3ea715b5-5b6c-44aa-8969-f08d6363b023"
      },
      "source": [
        "!pip install -q pyngrok\n",
        "from pyngrok import ngrok\n",
        "from google.colab import userdata\n",
        "\n",
        "NGROK_AUTH_TOKEN = userdata.get(\"NGROK_AUTH_TOKEN\")\n",
        "ngrok.set_auth_token(NGROK_AUTH_TOKEN)\n",
        "\n",
        "public_url = ngrok.connect(8000).public_url\n",
        "print(\"Public URL:\", public_url)"
      ],
      "execution_count": 42,
      "outputs": [
        {
          "output_type": "error",
          "ename": "SecretNotFoundError",
          "evalue": "Secret NGROK_AUTH_TOKEN does not exist.",
          "traceback": [
            "\u001b[0;31m---------------------------------------------------------------------------\u001b[0m",
            "\u001b[0;31mSecretNotFoundError\u001b[0m                       Traceback (most recent call last)",
            "\u001b[0;32m/tmp/ipython-input-4031660832.py\u001b[0m in \u001b[0;36m<cell line: 0>\u001b[0;34m()\u001b[0m\n\u001b[1;32m      3\u001b[0m \u001b[0;32mfrom\u001b[0m \u001b[0mgoogle\u001b[0m\u001b[0;34m.\u001b[0m\u001b[0mcolab\u001b[0m \u001b[0;32mimport\u001b[0m \u001b[0muserdata\u001b[0m\u001b[0;34m\u001b[0m\u001b[0;34m\u001b[0m\u001b[0m\n\u001b[1;32m      4\u001b[0m \u001b[0;34m\u001b[0m\u001b[0m\n\u001b[0;32m----> 5\u001b[0;31m \u001b[0mNGROK_AUTH_TOKEN\u001b[0m \u001b[0;34m=\u001b[0m \u001b[0muserdata\u001b[0m\u001b[0;34m.\u001b[0m\u001b[0mget\u001b[0m\u001b[0;34m(\u001b[0m\u001b[0;34m\"NGROK_AUTH_TOKEN\"\u001b[0m\u001b[0;34m)\u001b[0m\u001b[0;34m\u001b[0m\u001b[0;34m\u001b[0m\u001b[0m\n\u001b[0m\u001b[1;32m      6\u001b[0m \u001b[0mngrok\u001b[0m\u001b[0;34m.\u001b[0m\u001b[0mset_auth_token\u001b[0m\u001b[0;34m(\u001b[0m\u001b[0mNGROK_AUTH_TOKEN\u001b[0m\u001b[0;34m)\u001b[0m\u001b[0;34m\u001b[0m\u001b[0;34m\u001b[0m\u001b[0m\n\u001b[1;32m      7\u001b[0m \u001b[0;34m\u001b[0m\u001b[0m\n",
            "\u001b[0;32m/usr/local/lib/python3.12/dist-packages/google/colab/userdata.py\u001b[0m in \u001b[0;36mget\u001b[0;34m(key)\u001b[0m\n\u001b[1;32m     66\u001b[0m     \u001b[0;32mraise\u001b[0m \u001b[0mTimeoutException\u001b[0m\u001b[0;34m(\u001b[0m\u001b[0mkey\u001b[0m\u001b[0;34m)\u001b[0m\u001b[0;34m\u001b[0m\u001b[0;34m\u001b[0m\u001b[0m\n\u001b[1;32m     67\u001b[0m   \u001b[0;32mif\u001b[0m \u001b[0;32mnot\u001b[0m \u001b[0mresp\u001b[0m\u001b[0;34m.\u001b[0m\u001b[0mget\u001b[0m\u001b[0;34m(\u001b[0m\u001b[0;34m'exists'\u001b[0m\u001b[0;34m,\u001b[0m \u001b[0;32mFalse\u001b[0m\u001b[0;34m)\u001b[0m\u001b[0;34m:\u001b[0m\u001b[0;34m\u001b[0m\u001b[0;34m\u001b[0m\u001b[0m\n\u001b[0;32m---> 68\u001b[0;31m     \u001b[0;32mraise\u001b[0m \u001b[0mSecretNotFoundError\u001b[0m\u001b[0;34m(\u001b[0m\u001b[0mkey\u001b[0m\u001b[0;34m)\u001b[0m\u001b[0;34m\u001b[0m\u001b[0;34m\u001b[0m\u001b[0m\n\u001b[0m\u001b[1;32m     69\u001b[0m   \u001b[0;32mif\u001b[0m \u001b[0;32mnot\u001b[0m \u001b[0mresp\u001b[0m\u001b[0;34m.\u001b[0m\u001b[0mget\u001b[0m\u001b[0;34m(\u001b[0m\u001b[0;34m'access'\u001b[0m\u001b[0;34m,\u001b[0m \u001b[0;32mFalse\u001b[0m\u001b[0;34m)\u001b[0m\u001b[0;34m:\u001b[0m\u001b[0;34m\u001b[0m\u001b[0;34m\u001b[0m\u001b[0m\n\u001b[1;32m     70\u001b[0m     \u001b[0;32mraise\u001b[0m \u001b[0mNotebookAccessError\u001b[0m\u001b[0;34m(\u001b[0m\u001b[0mkey\u001b[0m\u001b[0;34m)\u001b[0m\u001b[0;34m\u001b[0m\u001b[0;34m\u001b[0m\u001b[0m\n",
            "\u001b[0;31mSecretNotFoundError\u001b[0m: Secret NGROK_AUTH_TOKEN does not exist."
          ]
        }
      ]
    },
    {
      "cell_type": "code",
      "metadata": {
        "colab": {
          "base_uri": "https://localhost:8080/"
        },
        "id": "096e9ff2",
        "outputId": "263e6998-e0d5-434e-e5c4-db678edcde4f"
      },
      "source": [
        "!PYTHONPATH=$PYTHONPATH:. python report/dashboard.py"
      ],
      "execution_count": 43,
      "outputs": [
        {
          "output_type": "stream",
          "name": "stdout",
          "text": [
            "  File \"/content/dsnd-dashboard-project/dsnd-dashboard-project/dsnd-dashboard-project/report/dashboard.py\", line 164\n",
            "    ax.barh([''], [pred])\n",
            "IndentationError: unexpected indent\n"
          ]
        }
      ]
    },
    {
      "cell_type": "code",
      "metadata": {
        "colab": {
          "base_uri": "https://localhost:8080/"
        },
        "id": "3f7e77d6",
        "outputId": "c1c9904b-59d8-4954-93e9-1e939e367763"
      },
      "source": [
        "!pytest -q"
      ],
      "execution_count": 44,
      "outputs": [
        {
          "output_type": "stream",
          "name": "stdout",
          "text": [
            "\n",
            "\u001b[33m\u001b[33mno tests ran\u001b[0m\u001b[33m in 0.03s\u001b[0m\u001b[0m\n"
          ]
        }
      ]
    },
    {
      "cell_type": "markdown",
      "metadata": {
        "id": "77d435a0"
      },
      "source": [
        "# Task\n",
        "Add docstrings to all Python functions and classes in the project and generate a README file at the end of the notebook."
      ]
    },
    {
      "cell_type": "markdown",
      "metadata": {
        "id": "fc33339b"
      },
      "source": [
        "## Add docstrings to sql execution.py\n",
        "\n",
        "### Subtask:\n",
        "Modify the cell containing `%%writefile python-package/employee_events/sql_execution.py` to include docstrings for the `run` function.\n"
      ]
    },
    {
      "cell_type": "markdown",
      "metadata": {
        "id": "9fee3f1a"
      },
      "source": [
        "**Reasoning**:\n",
        "Modify the `sql_execution.py` file to add a docstring to the `run` function as requested in the instructions.\n",
        "\n"
      ]
    },
    {
      "cell_type": "code",
      "metadata": {
        "colab": {
          "base_uri": "https://localhost:8080/"
        },
        "id": "a4adb58f",
        "outputId": "2ccf08b1-0de8-4952-8903-266e3f427a5d"
      },
      "source": [
        "%%writefile python-package/employee_events/sql_execution.py\n",
        "from pathlib import Path\n",
        "import sqlite3, pandas as pd\n",
        "\n",
        "DB_PATH = Path(__file__).resolve().parent / \"employee_events.db\"\n",
        "\n",
        "def run(query: str, params: dict | tuple = ()) -> pd.DataFrame:\n",
        "    \"\"\"\n",
        "    Execute a SQL query and return the results as a pandas DataFrame.\n",
        "\n",
        "    Args:\n",
        "        query: The SQL query string to be executed.\n",
        "        params: A dictionary or tuple of parameters for the query.\n",
        "\n",
        "    Returns:\n",
        "        A pandas DataFrame containing the query results.\n",
        "    \"\"\"\n",
        "    with sqlite3.connect(DB_PATH) as conn:\n",
        "        conn.row_factory = sqlite3.Row\n",
        "        cur = conn.execute(query, params if isinstance(params, tuple) else dict(params))\n",
        "        rows = cur.fetchall()\n",
        "    return pd.DataFrame([dict(r) for r in rows])"
      ],
      "execution_count": 46,
      "outputs": [
        {
          "output_type": "stream",
          "name": "stdout",
          "text": [
            "Overwriting python-package/employee_events/sql_execution.py\n"
          ]
        }
      ]
    },
    {
      "cell_type": "markdown",
      "metadata": {
        "id": "3be1d5d2"
      },
      "source": [
        "## Add docstrings to query base.py\n",
        "\n",
        "### Subtask:\n",
        "Modify the cell containing `%%writefile python-package/employee_events/query_base.py` to include docstrings for the `employee_timeseries` and `team_summary` functions.\n"
      ]
    },
    {
      "cell_type": "markdown",
      "metadata": {
        "id": "8e7035ab"
      },
      "source": [
        "**Reasoning**:\n",
        "Add docstrings to the `employee_timeseries` and `team_summary` functions in the `query_base.py` file.\n",
        "\n"
      ]
    },
    {
      "cell_type": "code",
      "metadata": {
        "colab": {
          "base_uri": "https://localhost:8080/"
        },
        "id": "e6db5e7e",
        "outputId": "4315bb70-178f-426e-a2fd-a7cd2325f5b9"
      },
      "source": [
        "%%writefile python-package/employee_events/query_base.py\n",
        "from .sql_execution import run\n",
        "\n",
        "def employee_timeseries(employee_id: int):\n",
        "    \"\"\"\n",
        "    Retrieves the event time series data for a specific employee.\n",
        "\n",
        "    Args:\n",
        "        employee_id: The ID of the employee.\n",
        "\n",
        "    Returns:\n",
        "        A pandas DataFrame with columns 'event_date', 'pos', and 'neg',\n",
        "        representing the sum of positive and negative events per date for the employee.\n",
        "    \"\"\"\n",
        "    q = \"\"\"\n",
        "    SELECT event_date,\n",
        "           SUM(positive_events) AS pos,\n",
        "           SUM(negative_events) AS neg\n",
        "    FROM employee_events\n",
        "    WHERE employee_id = :eid\n",
        "    GROUP BY event_date\n",
        "    ORDER BY event_date;\n",
        "    \"\"\"\n",
        "    return run(q, {\"eid\": employee_id})\n",
        "\n",
        "def team_summary(team_id: int):\n",
        "    \"\"\"\n",
        "    Retrieves a summary of positive and negative events for each employee within a team.\n",
        "\n",
        "    Args:\n",
        "        team_id: The ID of the team.\n",
        "\n",
        "    Returns:\n",
        "        A pandas DataFrame with columns 'employee_id', 'name', 'pos', and 'neg',\n",
        "        summarizing the total positive and negative events for each employee in the team,\n",
        "        ordered by positive events in descending order.\n",
        "    \"\"\"\n",
        "    q = \"\"\"\n",
        "    SELECT e.employee_id,\n",
        "           e.first_name || ' ' || e.last_name AS name,\n",
        "           SUM(ev.positive_events) AS pos,\n",
        "           SUM(ev.negative_events) AS neg\n",
        "    FROM employee e\n",
        "    JOIN employee_events ev USING(employee_id)\n",
        "    WHERE e.team_id = :tid\n",
        "    GROUP BY e.employee_id, name\n",
        "    ORDER BY pos DESC;\n",
        "    \"\"\"\n",
        "    return run(q, {\"tid\": team_id})"
      ],
      "execution_count": 47,
      "outputs": [
        {
          "output_type": "stream",
          "name": "stdout",
          "text": [
            "Overwriting python-package/employee_events/query_base.py\n"
          ]
        }
      ]
    },
    {
      "cell_type": "markdown",
      "metadata": {
        "id": "71fcef91"
      },
      "source": [
        "## Add docstrings to employee.py\n",
        "\n",
        "### Subtask:\n",
        "Modify the cell containing `%%writefile python-package/employee_events/employee.py` to include docstrings for the `get_employee_timeseries` and `get_employee_snapshot` functions.\n"
      ]
    },
    {
      "cell_type": "markdown",
      "metadata": {
        "id": "324d57e3"
      },
      "source": [
        "**Reasoning**:\n",
        "The current subtask requires adding docstrings to the `get_employee_timeseries` and `get_employee_snapshot` functions in the `employee.py` file. This can be achieved by modifying the existing `%%writefile` cell for this file to include the required docstrings.\n",
        "\n"
      ]
    },
    {
      "cell_type": "code",
      "metadata": {
        "colab": {
          "base_uri": "https://localhost:8080/"
        },
        "id": "e8b90f0c",
        "outputId": "d144a002-cb11-45f0-ff4e-849be849ec57"
      },
      "source": [
        "%%writefile python-package/employee_events/employee.py\n",
        "import numpy as np, pandas as pd\n",
        "from .query_base import employee_timeseries\n",
        "\n",
        "def get_employee_timeseries(entity_id, model):\n",
        "    \"\"\"\n",
        "    Retrieves the event time series data for a specific employee.\n",
        "\n",
        "    Args:\n",
        "        entity_id: The ID of the employee as a string or integer.\n",
        "        model: The trained model (not used in this function but included for consistency).\n",
        "\n",
        "    Returns:\n",
        "        A pandas DataFrame containing the time series of positive and negative events for the employee.\n",
        "    \"\"\"\n",
        "    return employee_timeseries(int(entity_id))\n",
        "\n",
        "def get_employee_snapshot(entity_id, model):\n",
        "    \"\"\"\n",
        "    Calculates a snapshot of recent employee activity and predicts risk using the provided model.\n",
        "\n",
        "    Args:\n",
        "        entity_id: The ID of the employee as a string or integer.\n",
        "        model: The trained model used for risk prediction.\n",
        "\n",
        "    Returns:\n",
        "        A dictionary containing:\n",
        "        - pos30: Total positive events in the last 30 days.\n",
        "        - neg30: Total negative events in the last 30 days.\n",
        "        - risk: The predicted risk score (a float between 0 and 1).\n",
        "    \"\"\"\n",
        "    ts = employee_timeseries(int(entity_id))\n",
        "    pos30 = ts.tail(30)[\"pos\"].sum() if not ts.empty else 0\n",
        "    neg30 = ts.tail(30)[\"neg\"].sum() if not ts.empty else 0\n",
        "    # Example feature vector; adjust to what your model expects\n",
        "    X = pd.DataFrame([{\"pos30\": pos30, \"neg30\": neg30}])\n",
        "    try:\n",
        "        risk = float(model.predict_proba(X)[:,1])\n",
        "    except Exception:\n",
        "        risk = 0.0\n",
        "    return {\"pos30\": int(pos30), \"neg30\": int(neg30), \"risk\": risk}"
      ],
      "execution_count": 48,
      "outputs": [
        {
          "output_type": "stream",
          "name": "stdout",
          "text": [
            "Overwriting python-package/employee_events/employee.py\n"
          ]
        }
      ]
    },
    {
      "cell_type": "markdown",
      "metadata": {
        "id": "4c0e9ca5"
      },
      "source": [
        "## Add docstrings to team.py\n",
        "\n",
        "### Subtask:\n",
        "Modify the cell containing `%%writefile python-package/employee_events/team.py` to include docstrings for the `get_team_table` function.\n"
      ]
    },
    {
      "cell_type": "markdown",
      "metadata": {
        "id": "6d1b9958"
      },
      "source": [
        "**Reasoning**:\n",
        "Modify the cell containing %%writefile python-package/employee_events/team.py to include a docstring for the get_team_table function.\n",
        "\n"
      ]
    },
    {
      "cell_type": "code",
      "metadata": {
        "colab": {
          "base_uri": "https://localhost:8080/"
        },
        "id": "86ca6a43",
        "outputId": "fbf4f2ce-b01d-4781-b41a-12828a145788"
      },
      "source": [
        "%%writefile python-package/employee_events/team.py\n",
        "from .query_base import team_summary\n",
        "\n",
        "def get_team_table(entity_id, model):\n",
        "    \"\"\"\n",
        "    Retrieves a summary table of employee events for a specific team.\n",
        "\n",
        "    Args:\n",
        "        entity_id: The ID of the team as a string or integer.\n",
        "        model: The trained model (not used in this function but included for consistency).\n",
        "\n",
        "    Returns:\n",
        "        A pandas DataFrame summarizing positive and negative events for each employee in the team.\n",
        "    \"\"\"\n",
        "    return team_summary(int(entity_id))"
      ],
      "execution_count": 49,
      "outputs": [
        {
          "output_type": "stream",
          "name": "stdout",
          "text": [
            "Overwriting python-package/employee_events/team.py\n"
          ]
        }
      ]
    },
    {
      "cell_type": "markdown",
      "metadata": {
        "id": "545c7fff"
      },
      "source": [
        "## Add docstrings to utils.py\n",
        "\n",
        "### Subtask:\n",
        "Add docstrings to utils.py\n"
      ]
    },
    {
      "cell_type": "markdown",
      "metadata": {
        "id": "a1e4ac1b"
      },
      "source": [
        "**Reasoning**:\n",
        "Add the docstring to the `get_model` function in the `report/utils.py` file.\n",
        "\n"
      ]
    },
    {
      "cell_type": "code",
      "metadata": {
        "colab": {
          "base_uri": "https://localhost:8080/"
        },
        "id": "2601fc66",
        "outputId": "584fe332-c5f9-4983-9122-1b7058f62b0d"
      },
      "source": [
        "%%writefile report/utils.py\n",
        "import pickle, pathlib\n",
        "ASSETS = pathlib.Path(__file__).resolve().parents[1] / \"assets\"\n",
        "\n",
        "_model = None\n",
        "def get_model():\n",
        "    \"\"\"\n",
        "    Loads a pickled model from the 'assets' directory.\n",
        "\n",
        "    This function implements a simple caching mechanism to avoid reloading\n",
        "    the model multiple times.\n",
        "\n",
        "    Returns:\n",
        "        The loaded model object.\n",
        "    \"\"\"\n",
        "    global _model\n",
        "    if _model is None:\n",
        "        with open(ASSETS / \"model.pkl\", \"rb\") as f:\n",
        "            _model = pickle.load(f)\n",
        "    return _model"
      ],
      "execution_count": 50,
      "outputs": [
        {
          "output_type": "stream",
          "name": "stdout",
          "text": [
            "Overwriting report/utils.py\n"
          ]
        }
      ]
    },
    {
      "cell_type": "markdown",
      "metadata": {
        "id": "fb6663d8"
      },
      "source": [
        "## Add docstrings to dashboard.py\n",
        "\n",
        "### Subtask:\n",
        "Modify the cell containing `%%writefile report/dashboard.py` to include docstrings for the `Handler` class and its methods (`do_GET`, `_send_json`, `_send_html`).\n"
      ]
    },
    {
      "cell_type": "markdown",
      "metadata": {
        "id": "4249f771"
      },
      "source": [
        "**Reasoning**:\n",
        "Modify the cell containing %%writefile report/dashboard.py to include docstrings for the Handler class and its methods.\n",
        "\n"
      ]
    },
    {
      "cell_type": "code",
      "metadata": {
        "colab": {
          "base_uri": "https://localhost:8080/"
        },
        "id": "d472c3bc",
        "outputId": "b592d5f0-2741-47be-a873-52e5a209108b"
      },
      "source": [
        "%%writefile report/dashboard.py\n",
        "from report.utils import get_model\n",
        "from employee_events.employee import get_employee_snapshot, get_employee_timeseries\n",
        "from employee_events.team import get_team_table\n",
        "\n",
        "# If your FastHTML skeleton exposes classes, import them here.\n",
        "# Below is a simple bottle/fastapi-like sketch; adapt to your framework.\n",
        "\n",
        "import http.server, socketserver, json\n",
        "\n",
        "PORT = 8000\n",
        "MODEL = get_model()\n",
        "\n",
        "class Handler(http.server.SimpleHTTPRequestHandler):\n",
        "    \"\"\"\n",
        "    A simple HTTP request handler for the employee events dashboard.\n",
        "\n",
        "    This handler routes requests to different API endpoints or serves a default HTML page.\n",
        "    It utilizes functions from the employee_events package and a pre-loaded model.\n",
        "    \"\"\"\n",
        "    def do_GET(self):\n",
        "        \"\"\"\n",
        "        Handles GET requests.\n",
        "\n",
        "        If the path starts with \"/api/employee/\", it extracts the employee ID,\n",
        "        retrieves the employee snapshot data, and sends a JSON response.\n",
        "        Otherwise, it serves a basic HTML page.\n",
        "        \"\"\"\n",
        "        if self.path.startswith(\"/api/employee/\"):\n",
        "            eid = int(self.path.split(\"/\")[-1])\n",
        "            snap = get_employee_snapshot(eid, MODEL)\n",
        "            self._send_json(snap)\n",
        "        else:\n",
        "            # Serve a tiny HTML that calls the API (placeholder)\n",
        "            html = \"\"\"\n",
        "            <html><body>\n",
        "              <h2>Employee Dashboard</h2>\n",
        "              <p>Try /api/employee/1</p>\n",
        "            </body></html>\n",
        "            \"\"\"\n",
        "            self._send_html(html)\n",
        "\n",
        "    def _send_json(self, obj):\n",
        "        \"\"\"\n",
        "        Sends a JSON response.\n",
        "\n",
        "        Args:\n",
        "            obj: The Python object to be serialized to JSON and sent as the response body.\n",
        "        \"\"\"\n",
        "        data = json.dumps(obj).encode()\n",
        "        self.send_response(200)\n",
        "        self.send_header(\"Content-Type\",\"application/json\")\n",
        "        self.send_header(\"Content-Length\", str(len(data)))\n",
        "        self.end_headers()\n",
        "        self.wfile.write(data)\n",
        "\n",
        "    def _send_html(self, html):\n",
        "        \"\"\"\n",
        "        Sends an HTML response.\n",
        "\n",
        "        Args:\n",
        "            html: The HTML string to be sent as the response body.\n",
        "        \"\"\"\n",
        "        data = html.encode()\n",
        "        self.send_response(200)\n",
        "        self.send_header(\"Content-Type\",\"text/html\")\n",
        "        self.send_header(\"Content-Length\", str(len(data)))\n",
        "        self.end_headers()\n",
        "        self.wfile.write(data)\n",
        "\n",
        "if __name__ == \"__main__\":\n",
        "    with socketserver.TCPServer((\"\", PORT), Handler) as httpd:\n",
        "        print(f\"Serving on http://127.0.0.1:{PORT}\")\n",
        "        httpd.serve_forever()"
      ],
      "execution_count": 51,
      "outputs": [
        {
          "output_type": "stream",
          "name": "stdout",
          "text": [
            "Overwriting report/dashboard.py\n"
          ]
        }
      ]
    },
    {
      "cell_type": "markdown",
      "metadata": {
        "id": "1693bcc1"
      },
      "source": [
        "## Generate readme\n",
        "\n",
        "### Subtask:\n",
        "Create markdown cells at the end of the notebook with the content of the README file, summarizing the project and setup steps.\n"
      ]
    },
    {
      "cell_type": "markdown",
      "metadata": {
        "id": "7be926cc"
      },
      "source": [
        "**Reasoning**:\n",
        "Create a markdown cell with the README content summarizing the project and setup steps based on the provided information in the notebook.\n",
        "\n"
      ]
    },
    {
      "cell_type": "markdown",
      "metadata": {
        "id": "6a8fd458"
      },
      "source": [
        "**Reasoning**:\n",
        "The previous attempt failed because the markdown content was placed inside a code block. I need to create a markdown cell to correctly render the README content.\n",
        "\n"
      ]
    },
    {
      "cell_type": "code",
      "metadata": {
        "colab": {
          "base_uri": "https://localhost:8080/",
          "height": 913
        },
        "id": "OYtgMemWag3k",
        "outputId": "9c254c6a-bef1-4442-a7c1-0f74380559f3"
      },
      "source": [
        "%%markdown\n",
        "\n",
        "# Employee Events Dashboard Project\n",
        "\n",
        "This project is a dashboard to visualize employee events and assess potential risks.\n",
        "\n",
        "## Project Setup\n",
        "\n",
        "1.  **Clone the repository:**\n",
        "    ```bash\n",
        "    !git clone https://github.com/udacity/dsnd-dashboard-project\n",
        "    %cd dsnd-dashboard-project\n",
        "    ```\n",
        "2.  **Set up a virtual environment and install dependencies:**\n",
        "    ```bash\n",
        "    !python -m venv .venv\n",
        "    !source .venv/bin/activate # Windows: .venv\\Scripts\\activate\n",
        "    !pip install -r requirements.txt\n",
        "    # Note: python-package/requirements.txt caused an error, review if needed.\n",
        "    # !pip install -r python-package/requirements.txt\n",
        "    ```\n",
        "3.  **Install nice-to-have packages:**\n",
        "    ```bash\n",
        "    !pip install -q pytest pyngrok\n",
        "    ```\n",
        "\n",
        "## Running the Dashboard\n",
        "\n",
        "To run the dashboard application, execute the following command from the project root directory:bash\n",
        "!PYTHONPATH=$PYTHONPATH:. python report/dashboard.py\n",
        "\n",
        "**Note:** There was an `IndentationError` in the `report/dashboard.py` file during a previous execution attempt. This needs to be resolved for the dashboard to run correctly.\n",
        "\n",
        "## Testing\n",
        "\n",
        "You can run the project tests using pytest:bash\n",
        "!pytest -q\n",
        "\n",
        "**Note:** Currently, the test execution shows \"no tests ran\". This might indicate an issue with test discovery or configuration.\n",
        "\n",
        "## Accessing the Dashboard (via ngrok)\n",
        "\n",
        "If you have ngrok set up and an auth token configured (e.g., as a Colab secret), you can expose the dashboard to the internet. However, the attempt to get the ngrok auth token failed in the notebook.python\n",
        "!pip install -q pyngrok\n",
        "from pyngrok import ngrok\n",
        "from google.colab import userdata\n",
        "\n",
        "# Ensure NGROK_AUTH_TOKEN is set as a Colab secret\n",
        "# NGROK_AUTH_TOKEN = userdata.get(\"NGROK_AUTH_TOKEN\")\n",
        "# ngrok.set_auth_token(NGROK_AUTH_TOKEN)\n",
        "\n",
        "# public_url = ngrok.connect(8000).public_url\n",
        "# print(\"Public URL:\", public_url)"
      ],
      "execution_count": 53,
      "outputs": [
        {
          "output_type": "display_data",
          "data": {
            "text/plain": [
              "<IPython.core.display.Markdown object>"
            ],
            "text/markdown": "\n# Employee Events Dashboard Project\n\nThis project is a dashboard to visualize employee events and assess potential risks.\n\n## Project Setup\n\n1.  **Clone the repository:**\n    ```bash\n    !git clone https://github.com/udacity/dsnd-dashboard-project\n    %cd dsnd-dashboard-project\n    ```\n2.  **Set up a virtual environment and install dependencies:**\n    ```bash\n    !python -m venv .venv\n    !source .venv/bin/activate # Windows: .venv\\Scripts\\activate\n    !pip install -r requirements.txt\n    # Note: python-package/requirements.txt caused an error, review if needed.\n    # !pip install -r python-package/requirements.txt\n    ```\n3.  **Install nice-to-have packages:**\n    ```bash\n    !pip install -q pytest pyngrok\n    ```\n\n## Running the Dashboard\n\nTo run the dashboard application, execute the following command from the project root directory:bash\n!PYTHONPATH=$PYTHONPATH:. python report/dashboard.py\n\n**Note:** There was an `IndentationError` in the `report/dashboard.py` file during a previous execution attempt. This needs to be resolved for the dashboard to run correctly.\n\n## Testing\n\nYou can run the project tests using pytest:bash\n!pytest -q\n\n**Note:** Currently, the test execution shows \"no tests ran\". This might indicate an issue with test discovery or configuration.\n\n## Accessing the Dashboard (via ngrok)\n\nIf you have ngrok set up and an auth token configured (e.g., as a Colab secret), you can expose the dashboard to the internet. However, the attempt to get the ngrok auth token failed in the notebook.python\n!pip install -q pyngrok\nfrom pyngrok import ngrok\nfrom google.colab import userdata\n\n# Ensure NGROK_AUTH_TOKEN is set as a Colab secret\n# NGROK_AUTH_TOKEN = userdata.get(\"NGROK_AUTH_TOKEN\")\n# ngrok.set_auth_token(NGROK_AUTH_TOKEN)\n\n# public_url = ngrok.connect(8000).public_url\n# print(\"Public URL:\", public_url)\n"
          },
          "metadata": {}
        }
      ]
    },
    {
      "cell_type": "markdown",
      "metadata": {
        "id": "44508e7f"
      },
      "source": [
        "## Summary:\n",
        "\n",
        "### Data Analysis Key Findings\n",
        "\n",
        "*   Docstrings were successfully added to the `run` function in `sql_execution.py`, the `employee_timeseries` and `team_summary` functions in `query_base.py`, the `get_employee_timeseries` and `get_employee_snapshot` functions in `employee.py`, the `get_team_table` function in `team.py`, and the `get_model` function in `utils.py`.\n",
        "*   Docstrings were added to the `Handler` class and its `do_GET`, `_send_json`, and `_send_html` methods in `dashboard.py`.\n",
        "*   A README file summarizing the project, setup, running instructions, and testing information was generated at the end of the notebook using a markdown cell.\n",
        "\n",
        "### Insights or Next Steps\n",
        "\n",
        "*   Resolve the identified `IndentationError` in `report/dashboard.py` to ensure the dashboard application runs correctly.\n",
        "*   Investigate the \"no tests ran\" issue during pytest execution to ensure tests are properly discovered and executed.\n"
      ]
    }
  ]
}